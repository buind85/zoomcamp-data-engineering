{
 "cells": [
  {
   "cell_type": "code",
   "execution_count": 2,
   "id": "3d99a451",
   "metadata": {},
   "outputs": [],
   "source": [
    "import pandas as pd\n",
    "import numpy as np\n",
    "pd.options.mode.chained_assignment = None  "
   ]
  },
  {
   "cell_type": "markdown",
   "id": "203db619",
   "metadata": {},
   "source": [
    "### Question 1: What's the version of NumPy that you installed?"
   ]
  },
  {
   "cell_type": "code",
   "execution_count": 3,
   "id": "d46c5e60",
   "metadata": {},
   "outputs": [
    {
     "name": "stdout",
     "output_type": "stream",
     "text": [
      "1.21.2\n"
     ]
    }
   ],
   "source": [
    "print(np.__version__)"
   ]
  },
  {
   "cell_type": "markdown",
   "id": "c474b657",
   "metadata": {},
   "source": [
    "#### answer: 1.21.2"
   ]
  },
  {
   "cell_type": "markdown",
   "id": "75fdb63b",
   "metadata": {},
   "source": [
    "### Question 2: How many records are in the dataset?"
   ]
  },
  {
   "cell_type": "code",
   "execution_count": 3,
   "id": "752476cf",
   "metadata": {},
   "outputs": [],
   "source": [
    "car_ds = pd.read_csv('car_price_dataset.csv')"
   ]
  },
  {
   "cell_type": "code",
   "execution_count": 7,
   "id": "1a81b1ce",
   "metadata": {},
   "outputs": [
    {
     "name": "stdout",
     "output_type": "stream",
     "text": [
      "<class 'pandas.core.frame.DataFrame'>\n",
      "RangeIndex: 11914 entries, 0 to 11913\n",
      "Data columns (total 16 columns):\n",
      " #   Column             Non-Null Count  Dtype  \n",
      "---  ------             --------------  -----  \n",
      " 0   Make               11914 non-null  object \n",
      " 1   Model              11914 non-null  object \n",
      " 2   Year               11914 non-null  int64  \n",
      " 3   Engine Fuel Type   11911 non-null  object \n",
      " 4   Engine HP          11845 non-null  float64\n",
      " 5   Engine Cylinders   11884 non-null  float64\n",
      " 6   Transmission Type  11914 non-null  object \n",
      " 7   Driven_Wheels      11914 non-null  object \n",
      " 8   Number of Doors    11908 non-null  float64\n",
      " 9   Market Category    8172 non-null   object \n",
      " 10  Vehicle Size       11914 non-null  object \n",
      " 11  Vehicle Style      11914 non-null  object \n",
      " 12  highway MPG        11914 non-null  int64  \n",
      " 13  city mpg           11914 non-null  int64  \n",
      " 14  Popularity         11914 non-null  int64  \n",
      " 15  MSRP               11914 non-null  int64  \n",
      "dtypes: float64(3), int64(5), object(8)\n",
      "memory usage: 1.5+ MB\n",
      "None\n"
     ]
    }
   ],
   "source": [
    "print(car_ds.info())"
   ]
  },
  {
   "cell_type": "markdown",
   "id": "e168f537",
   "metadata": {},
   "source": [
    "#### Answer: 11914 records"
   ]
  },
  {
   "cell_type": "markdown",
   "id": "0ab53b5b",
   "metadata": {},
   "source": [
    "### Question 3: Who are the most frequent car manufacturers (top-3) according to the dataset?"
   ]
  },
  {
   "cell_type": "code",
   "execution_count": 9,
   "id": "c4ad01e8",
   "metadata": {},
   "outputs": [
    {
     "data": {
      "text/plain": [
       "Chevrolet     1123\n",
       "Ford           881\n",
       "Volkswagen     809\n",
       "Name: Make, dtype: int64"
      ]
     },
     "execution_count": 9,
     "metadata": {},
     "output_type": "execute_result"
    }
   ],
   "source": [
    "car_ds['Make'].value_counts().nlargest(3)"
   ]
  },
  {
   "cell_type": "markdown",
   "id": "702f8207",
   "metadata": {},
   "source": [
    "#### Answer: Chevrolet, Ford, Volkswagen"
   ]
  },
  {
   "cell_type": "markdown",
   "id": "481b1d62",
   "metadata": {},
   "source": [
    "### Question 4: What's the number of unique Audi car models in the dataset?\n",
    "\n"
   ]
  },
  {
   "cell_type": "code",
   "execution_count": 11,
   "id": "4f7d4463",
   "metadata": {},
   "outputs": [
    {
     "name": "stdout",
     "output_type": "stream",
     "text": [
      "['BMW' 'Audi' 'FIAT' 'Mercedes-Benz' 'Chrysler' 'Nissan' 'Volvo' 'Mazda'\n",
      " 'Mitsubishi' 'Ferrari' 'Alfa Romeo' 'Toyota' 'McLaren' 'Maybach'\n",
      " 'Pontiac' 'Porsche' 'Saab' 'GMC' 'Hyundai' 'Plymouth' 'Honda'\n",
      " 'Oldsmobile' 'Suzuki' 'Ford' 'Cadillac' 'Kia' 'Bentley' 'Chevrolet'\n",
      " 'Dodge' 'Lamborghini' 'Lincoln' 'Subaru' 'Volkswagen' 'Spyker' 'Buick'\n",
      " 'Acura' 'Rolls-Royce' 'Maserati' 'Lexus' 'Aston Martin' 'Land Rover'\n",
      " 'Lotus' 'Infiniti' 'Scion' 'Genesis' 'HUMMER' 'Tesla' 'Bugatti']\n"
     ]
    }
   ],
   "source": [
    "print(car_ds['Make'].unique())"
   ]
  },
  {
   "cell_type": "code",
   "execution_count": 29,
   "id": "11063ec9",
   "metadata": {},
   "outputs": [
    {
     "data": {
      "text/plain": [
       "34"
      ]
     },
     "execution_count": 29,
     "metadata": {},
     "output_type": "execute_result"
    }
   ],
   "source": [
    "car_ds[car_ds['Make'] == 'Audi']['Model'].nunique()"
   ]
  },
  {
   "cell_type": "markdown",
   "id": "80b77e66",
   "metadata": {},
   "source": [
    "#### Answer: 34"
   ]
  },
  {
   "cell_type": "markdown",
   "id": "6e184a24",
   "metadata": {},
   "source": [
    "### Question 5: How many columns in the dataset have missing values?\n",
    "\n"
   ]
  },
  {
   "cell_type": "code",
   "execution_count": 35,
   "id": "3df2741d",
   "metadata": {},
   "outputs": [
    {
     "data": {
      "text/plain": [
       "5"
      ]
     },
     "execution_count": 35,
     "metadata": {},
     "output_type": "execute_result"
    }
   ],
   "source": [
    "car_ds.isna().any().sum()"
   ]
  },
  {
   "cell_type": "markdown",
   "id": "ab7e91ac",
   "metadata": {},
   "source": [
    "#### Answer: 5"
   ]
  },
  {
   "cell_type": "markdown",
   "id": "4895b7f5",
   "metadata": {},
   "source": [
    "### Question 6\n",
    "1. Find the median value of \"Engine Cylinders\" column in the dataset.\n",
    "2. Next, calculate the most frequent value of the same \"Engine Cylinders\".\n",
    "3. Use the fillna method to fill the missing values in \"Engine Cylinders\" with the most frequent value from the previous step.\n",
    "4. Now, calculate the median value of \"Engine Cylinders\" once again."
   ]
  },
  {
   "cell_type": "code",
   "execution_count": 4,
   "id": "cfff05a5",
   "metadata": {},
   "outputs": [
    {
     "name": "stdout",
     "output_type": "stream",
     "text": [
      "6.0\n"
     ]
    }
   ],
   "source": [
    "print(car_ds['Engine Cylinders'].median())"
   ]
  },
  {
   "cell_type": "code",
   "execution_count": 61,
   "id": "b9b844f8",
   "metadata": {},
   "outputs": [],
   "source": [
    "cylinder_mode = car_ds['Engine Cylinders'].mode()"
   ]
  },
  {
   "cell_type": "code",
   "execution_count": 62,
   "id": "2ef75fcc",
   "metadata": {},
   "outputs": [
    {
     "name": "stdout",
     "output_type": "stream",
     "text": [
      "0    4.0\n",
      "dtype: float64\n"
     ]
    }
   ],
   "source": [
    "print(cylinder_mode)"
   ]
  },
  {
   "cell_type": "code",
   "execution_count": 77,
   "id": "3974ed64",
   "metadata": {},
   "outputs": [
    {
     "name": "stdout",
     "output_type": "stream",
     "text": [
      "          Make       Model  Year                Engine Fuel Type  Engine HP  \\\n",
      "0          BMW  1 Series M  2011     premium unleaded (required)      335.0   \n",
      "1          BMW    1 Series  2011     premium unleaded (required)      300.0   \n",
      "2          BMW    1 Series  2011     premium unleaded (required)      300.0   \n",
      "3          BMW    1 Series  2011     premium unleaded (required)      230.0   \n",
      "4          BMW    1 Series  2011     premium unleaded (required)      230.0   \n",
      "...        ...         ...   ...                             ...        ...   \n",
      "11909    Acura         ZDX  2012     premium unleaded (required)      300.0   \n",
      "11910    Acura         ZDX  2012     premium unleaded (required)      300.0   \n",
      "11911    Acura         ZDX  2012     premium unleaded (required)      300.0   \n",
      "11912    Acura         ZDX  2013  premium unleaded (recommended)      300.0   \n",
      "11913  Lincoln      Zephyr  2006                regular unleaded      221.0   \n",
      "\n",
      "       Engine Cylinders Transmission Type      Driven_Wheels  Number of Doors  \\\n",
      "0                   6.0            MANUAL   rear wheel drive              2.0   \n",
      "1                   6.0            MANUAL   rear wheel drive              2.0   \n",
      "2                   6.0            MANUAL   rear wheel drive              2.0   \n",
      "3                   6.0            MANUAL   rear wheel drive              2.0   \n",
      "4                   6.0            MANUAL   rear wheel drive              2.0   \n",
      "...                 ...               ...                ...              ...   \n",
      "11909               6.0         AUTOMATIC    all wheel drive              4.0   \n",
      "11910               6.0         AUTOMATIC    all wheel drive              4.0   \n",
      "11911               6.0         AUTOMATIC    all wheel drive              4.0   \n",
      "11912               6.0         AUTOMATIC    all wheel drive              4.0   \n",
      "11913               6.0         AUTOMATIC  front wheel drive              4.0   \n",
      "\n",
      "                             Market Category Vehicle Size  Vehicle Style  \\\n",
      "0      Factory Tuner,Luxury,High-Performance      Compact          Coupe   \n",
      "1                         Luxury,Performance      Compact    Convertible   \n",
      "2                    Luxury,High-Performance      Compact          Coupe   \n",
      "3                         Luxury,Performance      Compact          Coupe   \n",
      "4                                     Luxury      Compact    Convertible   \n",
      "...                                      ...          ...            ...   \n",
      "11909             Crossover,Hatchback,Luxury      Midsize  4dr Hatchback   \n",
      "11910             Crossover,Hatchback,Luxury      Midsize  4dr Hatchback   \n",
      "11911             Crossover,Hatchback,Luxury      Midsize  4dr Hatchback   \n",
      "11912             Crossover,Hatchback,Luxury      Midsize  4dr Hatchback   \n",
      "11913                                 Luxury      Midsize          Sedan   \n",
      "\n",
      "       highway MPG  city mpg  Popularity   MSRP  \n",
      "0               26        19        3916  46135  \n",
      "1               28        19        3916  40650  \n",
      "2               28        20        3916  36350  \n",
      "3               28        18        3916  29450  \n",
      "4               28        18        3916  34500  \n",
      "...            ...       ...         ...    ...  \n",
      "11909           23        16         204  46120  \n",
      "11910           23        16         204  56670  \n",
      "11911           23        16         204  50620  \n",
      "11912           23        16         204  50920  \n",
      "11913           26        17          61  28995  \n",
      "\n",
      "[11914 rows x 16 columns]\n"
     ]
    }
   ],
   "source": [
    "print(car_ds.fillna({'Engine Cylinders':cylinder_mode}))"
   ]
  },
  {
   "cell_type": "code",
   "execution_count": 90,
   "id": "195d5829",
   "metadata": {},
   "outputs": [],
   "source": [
    "car_ds['Engine Cylinders'].fillna(cylinder_mode, inplace=True)"
   ]
  },
  {
   "cell_type": "code",
   "execution_count": 5,
   "id": "5f07d69e",
   "metadata": {},
   "outputs": [
    {
     "name": "stdout",
     "output_type": "stream",
     "text": [
      "6.0\n"
     ]
    }
   ],
   "source": [
    "print(car_ds['Engine Cylinders'].median())"
   ]
  },
  {
   "cell_type": "markdown",
   "id": "3ae8b18c",
   "metadata": {},
   "source": [
    "#### Answer:\n",
    "1. 5.628828677213059\n",
    "2. 4.0\n",
    "3. car_ds['Engine Cylinders'].fillna(cylinder_mode, inplace=True)\n",
    "4. No"
   ]
  },
  {
   "cell_type": "markdown",
   "id": "455c3281",
   "metadata": {},
   "source": [
    "### Question 7: How many columns in the dataset have missing values?\n",
    "1. Select all the \"Lotus\" cars from the dataset.\n",
    "2. Select only columns \"Engine HP\", \"Engine Cylinders\".\n",
    "3. Now drop all duplicated rows using drop_duplicates method (you should get a dataframe with 9 rows).\n",
    "4. Get the underlying NumPy array. Let's call it X.\n",
    "5. Compute matrix-matrix multiplication between the transpose of X and X. To get the transpose, use X.T. Let's call the result XTX.\n",
    "6. Invert XTX.\n",
    "7. Create an array y with values [1100, 800, 750, 850, 1300, 1000, 1000, 1300, 800].\n",
    "8. Multiply the inverse of XTX with the transpose of X, and then multiply the result by y. Call the result w.\n",
    "9 What's the value of the first element of w\n",
    "\n"
   ]
  },
  {
   "cell_type": "code",
   "execution_count": 3,
   "id": "5329f3b9",
   "metadata": {},
   "outputs": [],
   "source": [
    "lotus_df = car_ds[car_ds.Make=='Lotus']"
   ]
  },
  {
   "cell_type": "code",
   "execution_count": 103,
   "id": "293fe767",
   "metadata": {},
   "outputs": [
    {
     "name": "stdout",
     "output_type": "stream",
     "text": [
      "       Make  Model  Year             Engine Fuel Type  Engine HP  \\\n",
      "3912  Lotus  Elise  2009  premium unleaded (required)      189.0   \n",
      "3913  Lotus  Elise  2009  premium unleaded (required)      218.0   \n",
      "3914  Lotus  Elise  2009  premium unleaded (required)      189.0   \n",
      "3915  Lotus  Elise  2010  premium unleaded (required)      189.0   \n",
      "3916  Lotus  Elise  2010  premium unleaded (required)      218.0   \n",
      "\n",
      "      Engine Cylinders Transmission Type     Driven_Wheels  Number of Doors  \\\n",
      "3912               4.0            MANUAL  rear wheel drive              2.0   \n",
      "3913               4.0            MANUAL  rear wheel drive              2.0   \n",
      "3914               4.0            MANUAL  rear wheel drive              2.0   \n",
      "3915               4.0            MANUAL  rear wheel drive              2.0   \n",
      "3916               4.0            MANUAL  rear wheel drive              2.0   \n",
      "\n",
      "              Market Category Vehicle Size Vehicle Style  highway MPG  \\\n",
      "3912  Exotic,High-Performance      Compact   Convertible           27   \n",
      "3913  Exotic,High-Performance      Compact   Convertible           26   \n",
      "3914  Exotic,High-Performance      Compact   Convertible           27   \n",
      "3915  Exotic,High-Performance      Compact   Convertible           27   \n",
      "3916  Exotic,High-Performance      Compact   Convertible           26   \n",
      "\n",
      "      city mpg  Popularity   MSRP  \n",
      "3912        21         613  43995  \n",
      "3913        20         613  54990  \n",
      "3914        21         613  47250  \n",
      "3915        21         613  47250  \n",
      "3916        20         613  54990  \n"
     ]
    }
   ],
   "source": [
    "print(lotus_df.head())"
   ]
  },
  {
   "cell_type": "code",
   "execution_count": 4,
   "id": "51252688",
   "metadata": {},
   "outputs": [],
   "source": [
    "hp_cylinders = lotus_df[['Engine HP','Engine Cylinders']]"
   ]
  },
  {
   "cell_type": "code",
   "execution_count": 5,
   "id": "55626c69",
   "metadata": {},
   "outputs": [],
   "source": [
    "hp_cylinders.drop_duplicates(inplace=True)"
   ]
  },
  {
   "cell_type": "code",
   "execution_count": 6,
   "id": "20d7802b",
   "metadata": {},
   "outputs": [],
   "source": [
    "X = hp_cylinders.to_numpy()"
   ]
  },
  {
   "cell_type": "code",
   "execution_count": 7,
   "id": "c05d44ca",
   "metadata": {},
   "outputs": [
    {
     "name": "stdout",
     "output_type": "stream",
     "text": [
      "[[189.   4.]\n",
      " [218.   4.]\n",
      " [217.   4.]\n",
      " [350.   8.]\n",
      " [400.   6.]\n",
      " [276.   6.]\n",
      " [345.   6.]\n",
      " [257.   4.]\n",
      " [240.   4.]]\n"
     ]
    }
   ],
   "source": [
    "print(X)"
   ]
  },
  {
   "cell_type": "code",
   "execution_count": 8,
   "id": "215051be",
   "metadata": {},
   "outputs": [],
   "source": [
    "XT = np.transpose(X)"
   ]
  },
  {
   "cell_type": "code",
   "execution_count": 9,
   "id": "2fd5e6e1",
   "metadata": {},
   "outputs": [],
   "source": [
    "XTX = np.dot(XT,X)"
   ]
  },
  {
   "cell_type": "code",
   "execution_count": 10,
   "id": "5321cb85",
   "metadata": {},
   "outputs": [
    {
     "name": "stdout",
     "output_type": "stream",
     "text": [
      "[[7.31684e+05 1.34100e+04]\n",
      " [1.34100e+04 2.52000e+02]]\n"
     ]
    }
   ],
   "source": [
    "print(XTX)"
   ]
  },
  {
   "cell_type": "code",
   "execution_count": 11,
   "id": "3fd200e2",
   "metadata": {},
   "outputs": [],
   "source": [
    "inversed_X = np.linalg.inv(XTX)"
   ]
  },
  {
   "cell_type": "code",
   "execution_count": 12,
   "id": "173fc7f3",
   "metadata": {},
   "outputs": [
    {
     "name": "stdout",
     "output_type": "stream",
     "text": [
      "[[ 5.53084235e-05 -2.94319825e-03]\n",
      " [-2.94319825e-03  1.60588447e-01]]\n"
     ]
    }
   ],
   "source": [
    "print(inversed_X)"
   ]
  },
  {
   "cell_type": "code",
   "execution_count": 14,
   "id": "73e38447",
   "metadata": {},
   "outputs": [],
   "source": [
    "y = np.array([1100, 800, 750, 850, 1300, 1000, 1000, 1300, 800])"
   ]
  },
  {
   "cell_type": "code",
   "execution_count": 15,
   "id": "2dc73fd3",
   "metadata": {},
   "outputs": [],
   "source": [
    "w = np.dot(np.dot(inversed_X,XT),y)"
   ]
  },
  {
   "cell_type": "code",
   "execution_count": 16,
   "id": "a992c2e3",
   "metadata": {},
   "outputs": [
    {
     "name": "stdout",
     "output_type": "stream",
     "text": [
      "[  4.59494481 -63.56432501]\n"
     ]
    }
   ],
   "source": [
    "print(w)"
   ]
  },
  {
   "cell_type": "markdown",
   "id": "21c17f6c",
   "metadata": {},
   "source": [
    "#### Anwer:\n",
    "8. What's the value of the first element of w: 4.59494481"
   ]
  },
  {
   "cell_type": "code",
   "execution_count": null,
   "id": "e984e5eb",
   "metadata": {},
   "outputs": [],
   "source": []
  }
 ],
 "metadata": {
  "kernelspec": {
   "display_name": "Python 3 (ipykernel)",
   "language": "python",
   "name": "python3"
  },
  "language_info": {
   "codemirror_mode": {
    "name": "ipython",
    "version": 3
   },
   "file_extension": ".py",
   "mimetype": "text/x-python",
   "name": "python",
   "nbconvert_exporter": "python",
   "pygments_lexer": "ipython3",
   "version": "3.7.11"
  }
 },
 "nbformat": 4,
 "nbformat_minor": 5
}
